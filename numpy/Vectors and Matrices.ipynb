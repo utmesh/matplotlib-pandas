{
 "cells": [
  {
   "cell_type": "code",
   "execution_count": 3,
   "metadata": {
    "collapsed": true
   },
   "outputs": [],
   "source": [
    "import numpy as np"
   ]
  },
  {
   "cell_type": "code",
   "execution_count": 7,
   "metadata": {},
   "outputs": [],
   "source": [
    "M = np.array([[1,2],[3,4]])\n",
    "L = [[1,2],[3,4]]\n"
   ]
  },
  {
   "cell_type": "code",
   "execution_count": 8,
   "metadata": {},
   "outputs": [
    {
     "data": {
      "text/plain": [
       "[1, 2]"
      ]
     },
     "execution_count": 8,
     "metadata": {},
     "output_type": "execute_result"
    }
   ],
   "source": [
    "L[0]"
   ]
  },
  {
   "cell_type": "code",
   "execution_count": 9,
   "metadata": {},
   "outputs": [
    {
     "data": {
      "text/plain": [
       "1"
      ]
     },
     "execution_count": 9,
     "metadata": {},
     "output_type": "execute_result"
    }
   ],
   "source": [
    "L[0][0]"
   ]
  },
  {
   "cell_type": "code",
   "execution_count": 10,
   "metadata": {},
   "outputs": [
    {
     "data": {
      "text/plain": [
       "1"
      ]
     },
     "execution_count": 10,
     "metadata": {},
     "output_type": "execute_result"
    }
   ],
   "source": [
    "M[0][0]"
   ]
  },
  {
   "cell_type": "code",
   "execution_count": 11,
   "metadata": {},
   "outputs": [
    {
     "data": {
      "text/plain": [
       "1"
      ]
     },
     "execution_count": 11,
     "metadata": {},
     "output_type": "execute_result"
    }
   ],
   "source": [
    "M[0,0]"
   ]
  },
  {
   "cell_type": "code",
   "execution_count": 13,
   "metadata": {},
   "outputs": [
    {
     "data": {
      "text/plain": [
       "matrix([[1, 2],\n",
       "        [3, 4]])"
      ]
     },
     "execution_count": 13,
     "metadata": {},
     "output_type": "execute_result"
    }
   ],
   "source": [
    "M2 = np.matrix([[1,2],[3,4]])\n",
    "M2"
   ]
  },
  {
   "cell_type": "code",
   "execution_count": 14,
   "metadata": {},
   "outputs": [
    {
     "data": {
      "text/plain": [
       "array([[1, 2],\n",
       "       [3, 4]])"
      ]
     },
     "execution_count": 14,
     "metadata": {},
     "output_type": "execute_result"
    }
   ],
   "source": [
    "A = np.array(M2)\n",
    "A"
   ]
  },
  {
   "cell_type": "code",
   "execution_count": 15,
   "metadata": {},
   "outputs": [
    {
     "data": {
      "text/plain": [
       "array([[1, 3],\n",
       "       [2, 4]])"
      ]
     },
     "execution_count": 15,
     "metadata": {},
     "output_type": "execute_result"
    }
   ],
   "source": [
    "A.T"
   ]
  },
  {
   "cell_type": "code",
   "execution_count": 18,
   "metadata": {},
   "outputs": [
    {
     "data": {
      "text/plain": [
       "array([0., 0., 0., 0., 0., 0., 0., 0., 0., 0.])"
      ]
     },
     "execution_count": 18,
     "metadata": {},
     "output_type": "execute_result"
    }
   ],
   "source": [
    "Z = np.zeros(10)\n",
    "Z"
   ]
  },
  {
   "cell_type": "code",
   "execution_count": 20,
   "metadata": {},
   "outputs": [
    {
     "data": {
      "text/plain": [
       "array([[0., 0., 0., 0., 0., 0., 0., 0., 0., 0.],\n",
       "       [0., 0., 0., 0., 0., 0., 0., 0., 0., 0.],\n",
       "       [0., 0., 0., 0., 0., 0., 0., 0., 0., 0.],\n",
       "       [0., 0., 0., 0., 0., 0., 0., 0., 0., 0.],\n",
       "       [0., 0., 0., 0., 0., 0., 0., 0., 0., 0.],\n",
       "       [0., 0., 0., 0., 0., 0., 0., 0., 0., 0.],\n",
       "       [0., 0., 0., 0., 0., 0., 0., 0., 0., 0.],\n",
       "       [0., 0., 0., 0., 0., 0., 0., 0., 0., 0.],\n",
       "       [0., 0., 0., 0., 0., 0., 0., 0., 0., 0.],\n",
       "       [0., 0., 0., 0., 0., 0., 0., 0., 0., 0.]])"
      ]
     },
     "execution_count": 20,
     "metadata": {},
     "output_type": "execute_result"
    }
   ],
   "source": [
    "Y = np.zeros([10,10])\n",
    "Y"
   ]
  },
  {
   "cell_type": "code",
   "execution_count": 21,
   "metadata": {},
   "outputs": [
    {
     "data": {
      "text/plain": [
       "array([[1., 1., 1., 1., 1., 1., 1., 1., 1., 1.],\n",
       "       [1., 1., 1., 1., 1., 1., 1., 1., 1., 1.],\n",
       "       [1., 1., 1., 1., 1., 1., 1., 1., 1., 1.],\n",
       "       [1., 1., 1., 1., 1., 1., 1., 1., 1., 1.],\n",
       "       [1., 1., 1., 1., 1., 1., 1., 1., 1., 1.],\n",
       "       [1., 1., 1., 1., 1., 1., 1., 1., 1., 1.],\n",
       "       [1., 1., 1., 1., 1., 1., 1., 1., 1., 1.],\n",
       "       [1., 1., 1., 1., 1., 1., 1., 1., 1., 1.],\n",
       "       [1., 1., 1., 1., 1., 1., 1., 1., 1., 1.],\n",
       "       [1., 1., 1., 1., 1., 1., 1., 1., 1., 1.]])"
      ]
     },
     "execution_count": 21,
     "metadata": {},
     "output_type": "execute_result"
    }
   ],
   "source": [
    "A = np.ones((10,10))\n",
    "A"
   ]
  },
  {
   "cell_type": "code",
   "execution_count": 23,
   "metadata": {},
   "outputs": [
    {
     "data": {
      "text/plain": [
       "array([[0.4317768 , 0.92439689, 0.91270865, 0.96980885, 0.74003843,\n",
       "        0.72304621, 0.03138753, 0.01871638, 0.63904165, 0.40570236],\n",
       "       [0.68752827, 0.47562759, 0.79490874, 0.39192178, 0.3622783 ,\n",
       "        0.03757973, 0.54772967, 0.7119338 , 0.22157288, 0.56757079],\n",
       "       [0.95420395, 0.71318187, 0.78970987, 0.20263475, 0.15615051,\n",
       "        0.22223678, 0.9758667 , 0.47272523, 0.7881541 , 0.33524606],\n",
       "       [0.95648524, 0.17385957, 0.43700362, 0.95333186, 0.33159176,\n",
       "        0.98896419, 0.45981598, 0.2931502 , 0.59801364, 0.63282126],\n",
       "       [0.58895462, 0.40485258, 0.78328481, 0.36653993, 0.77061323,\n",
       "        0.6854758 , 0.64674085, 0.92529311, 0.05448808, 0.55853288],\n",
       "       [0.12423856, 0.87985491, 0.39485247, 0.72363201, 0.24903428,\n",
       "        0.76423186, 0.26365573, 0.6471618 , 0.09619814, 0.58375451],\n",
       "       [0.4313382 , 0.23920375, 0.52216576, 0.98201875, 0.48706963,\n",
       "        0.43138801, 0.44256391, 0.49303787, 0.96209542, 0.91572687],\n",
       "       [0.62010092, 0.25701546, 0.64183177, 0.25795484, 0.92000629,\n",
       "        0.76097804, 0.17047626, 0.25038522, 0.53732713, 0.93446599],\n",
       "       [0.8195144 , 0.82656804, 0.69827952, 0.94450329, 0.7873173 ,\n",
       "        0.03334896, 0.89320031, 0.5144443 , 0.66462962, 0.99971577],\n",
       "       [0.0081968 , 0.97599283, 0.27308328, 0.34156297, 0.11523665,\n",
       "        0.0878729 , 0.65662234, 0.50155074, 0.75441466, 0.2024837 ]])"
      ]
     },
     "execution_count": 23,
     "metadata": {},
     "output_type": "execute_result"
    }
   ],
   "source": [
    "R = np.random.random((10,10)) ## uniformly distributed number between 0 and 1\n",
    "R"
   ]
  },
  {
   "cell_type": "code",
   "execution_count": 25,
   "metadata": {},
   "outputs": [
    {
     "data": {
      "text/plain": [
       "array([[-1.31388483,  0.86999736, -0.1933119 ,  0.39003193,  1.40438103,\n",
       "         0.27267181,  0.95313592,  1.098642  ,  0.68322245,  0.45622281],\n",
       "       [-0.42258934,  0.50428415, -0.38749131,  1.16140223, -0.42426383,\n",
       "         0.02405929,  0.05312458,  0.48453051,  1.61148188, -0.1551056 ],\n",
       "       [ 0.13789078, -0.10571322,  0.38431763, -1.80965056, -0.38908181,\n",
       "        -1.82029068, -1.92730581, -1.82812524, -0.56625984,  0.61496014],\n",
       "       [ 1.88900673, -0.46967294,  0.92013252, -2.1439459 ,  0.13953975,\n",
       "         0.96166557, -2.13241495,  2.37821989, -0.01164528, -0.45134699],\n",
       "       [ 0.09423578, -0.40620733, -0.35341588, -0.37055036, -0.86249488,\n",
       "         0.20115842,  0.58275053,  1.31295934,  0.13597935, -1.89808755],\n",
       "       [-0.96551604,  0.2284652 , -2.93618163, -1.76754464,  1.10756805,\n",
       "        -0.6679099 , -0.48313344, -2.42896817,  1.75403859, -0.26074315],\n",
       "       [ 0.42645772,  0.37946574,  1.81874428, -0.19038442,  0.69778391,\n",
       "         0.21718738, -0.53338717, -0.68660614, -0.18880129,  0.53950484],\n",
       "       [-0.96318047, -0.34450607,  0.36872412,  0.79946889,  0.2173313 ,\n",
       "         0.38483402, -1.07316518,  1.70835812,  1.12343829, -1.37367144],\n",
       "       [ 1.64923595, -0.20715693,  1.09552606, -0.08435701, -0.26689177,\n",
       "        -0.74484278,  0.85030157, -0.62028857,  0.17550801,  0.3765021 ],\n",
       "       [ 0.08429136, -0.113424  ,  1.00437442, -0.27580882,  0.66778471,\n",
       "         0.11073729, -0.79114317,  1.56550265, -0.77930854, -0.31951467]])"
      ]
     },
     "execution_count": 25,
     "metadata": {},
     "output_type": "execute_result"
    }
   ],
   "source": [
    "RG = np.random.randn(10,10)\n",
    "RG  ##gaussian distribution with mean 0 and varaince 1"
   ]
  },
  {
   "cell_type": "code",
   "execution_count": 26,
   "metadata": {},
   "outputs": [
    {
     "data": {
      "text/plain": [
       "-0.004381525046720178"
      ]
     },
     "execution_count": 26,
     "metadata": {},
     "output_type": "execute_result"
    }
   ],
   "source": [
    "RG.mean()"
   ]
  },
  {
   "cell_type": "code",
   "execution_count": 27,
   "metadata": {},
   "outputs": [
    {
     "data": {
      "text/plain": [
       "1.0406918173153954"
      ]
     },
     "execution_count": 27,
     "metadata": {},
     "output_type": "execute_result"
    }
   ],
   "source": [
    "RG.var()"
   ]
  },
  {
   "cell_type": "code",
   "execution_count": null,
   "metadata": {
    "collapsed": true
   },
   "outputs": [],
   "source": []
  }
 ],
 "metadata": {
  "kernelspec": {
   "display_name": "Python 3",
   "language": "python",
   "name": "python3"
  },
  "language_info": {
   "codemirror_mode": {
    "name": "ipython",
    "version": 3
   },
   "file_extension": ".py",
   "mimetype": "text/x-python",
   "name": "python",
   "nbconvert_exporter": "python",
   "pygments_lexer": "ipython3",
   "version": "3.6.3"
  }
 },
 "nbformat": 4,
 "nbformat_minor": 2
}
