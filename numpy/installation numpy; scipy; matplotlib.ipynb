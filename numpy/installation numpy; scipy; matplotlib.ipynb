{
 "cells": [
  {
   "cell_type": "code",
   "execution_count": 7,
   "metadata": {},
   "outputs": [
    {
     "name": "stdout",
     "output_type": "stream",
     "text": [
      "Fetching package metadata ...........\n",
      "Solving package specifications: .\n",
      "\n",
      "Package plan for installation in environment /home/umesh/anaconda3:\n",
      "\n",
      "The following packages will be UPDATED:\n",
      "\n",
      "    anaconda: 5.0.1-py36hd30a520_1  --> custom-py36hbbc8b67_0     \n",
      "    conda:    4.3.30-py36h5d9f9f4_0 --> 4.4.11-py36_0             \n",
      "    llvmlite: 0.20.0-py36_0         --> 0.22.0-py36ha27ea49_0     \n",
      "    numba:    0.35.0-np113py36_10   --> 0.37.0-np114py36h5fcf951_0\n",
      "    numpy:    1.13.3-py36ha12f23b_0 --> 1.14.1-py36ha266831_2     \n",
      "    pycosat:  0.6.2-py36h1a0ea17_1  --> 0.6.3-py36h0a5515d_0      \n",
      "\n",
      "anaconda-custo 100% |################################| Time: 0:00:00   2.66 MB/s\n",
      "llvmlite-0.22. 100% |################################| Time: 0:00:01   8.47 MB/s\n",
      "numpy-1.14.1-p 100% |################################| Time: 0:00:00   8.20 MB/s\n",
      "pycosat-0.6.3- 100% |################################| Time: 0:00:00  27.53 MB/s\n",
      "numba-0.37.0-n 100% |################################| Time: 0:00:00   7.84 MB/s\n",
      "conda-4.4.11-p 100% |################################| Time: 0:00:00   6.80 MB/s\n"
     ]
    }
   ],
   "source": [
    "import sys\n",
    "!conda install --yes --prefix {sys.prefix} numpy"
   ]
  },
  {
   "cell_type": "code",
   "execution_count": 9,
   "metadata": {},
   "outputs": [
    {
     "name": "stdout",
     "output_type": "stream",
     "text": [
      "-a: not found\r\n",
      "python is /home/umesh/anaconda3/bin/python\r\n"
     ]
    }
   ],
   "source": [
    "!type -a python"
   ]
  },
  {
   "cell_type": "code",
   "execution_count": 10,
   "metadata": {},
   "outputs": [
    {
     "name": "stdout",
     "output_type": "stream",
     "text": [
      "-a: not found\r\n",
      "pip is /home/umesh/anaconda3/bin/pip\r\n"
     ]
    }
   ],
   "source": [
    "!type -a pip"
   ]
  },
  {
   "cell_type": "code",
   "execution_count": 11,
   "metadata": {},
   "outputs": [
    {
     "name": "stdout",
     "output_type": "stream",
     "text": [
      "-a: not found\r\n",
      "conda is /home/umesh/anaconda3/bin/conda\r\n"
     ]
    }
   ],
   "source": [
    "!type -a conda"
   ]
  },
  {
   "cell_type": "code",
   "execution_count": 12,
   "metadata": {},
   "outputs": [
    {
     "data": {
      "text/plain": [
       "['',\n",
       " '/home/umesh/anaconda3/lib/python36.zip',\n",
       " '/home/umesh/anaconda3/lib/python3.6',\n",
       " '/home/umesh/anaconda3/lib/python3.6/lib-dynload',\n",
       " '/home/umesh/anaconda3/lib/python3.6/site-packages',\n",
       " '/home/umesh/anaconda3/lib/python3.6/site-packages/IPython/extensions',\n",
       " '/home/umesh/.ipython']"
      ]
     },
     "execution_count": 12,
     "metadata": {},
     "output_type": "execute_result"
    }
   ],
   "source": [
    "import sys\n",
    "sys.path"
   ]
  },
  {
   "cell_type": "code",
   "execution_count": 13,
   "metadata": {},
   "outputs": [
    {
     "data": {
      "text/plain": [
       "['/home/umesh/anaconda3/lib/python3.6/site-packages/numpy']"
      ]
     },
     "execution_count": 13,
     "metadata": {},
     "output_type": "execute_result"
    }
   ],
   "source": [
    "import numpy\n",
    "numpy.__path__"
   ]
  },
  {
   "cell_type": "code",
   "execution_count": 17,
   "metadata": {},
   "outputs": [
    {
     "data": {
      "text/plain": [
       "array([1, 2, 4])"
      ]
     },
     "execution_count": 17,
     "metadata": {},
     "output_type": "execute_result"
    }
   ],
   "source": [
    "import numpy\n",
    "numpy.array([1,2,4])"
   ]
  },
  {
   "cell_type": "code",
   "execution_count": 20,
   "metadata": {
    "collapsed": true
   },
   "outputs": [],
   "source": [
    "from IPython.core.magic import register_line_magic\n",
    "\n",
    "@register_line_magic\n",
    "def pip(args):\n",
    "    \"\"\"Use pip from the current kernel\"\"\"\n",
    "    from pip import main\n",
    "    main(args.split())"
   ]
  },
  {
   "cell_type": "code",
   "execution_count": 1,
   "metadata": {},
   "outputs": [
    {
     "name": "stdout",
     "output_type": "stream",
     "text": [
      "\n",
      "The following command must be run outside of the IPython shell:\n",
      "\n",
      "    $ pip install numpy\n",
      "\n",
      "The Python package manager (pip) can only be used from outside of IPython.\n",
      "Please reissue the `pip` command in a separate terminal or command prompt.\n",
      "\n",
      "See the Python documentation for more informations on how to install packages:\n",
      "\n",
      "    https://docs.python.org/3/installing/\n"
     ]
    }
   ],
   "source": [
    "%pip install numpy"
   ]
  },
  {
   "cell_type": "code",
   "execution_count": 2,
   "metadata": {},
   "outputs": [
    {
     "name": "stdout",
     "output_type": "stream",
     "text": [
      "Requirement already satisfied: matplotlib in ./anaconda3/lib/python3.6/site-packages\r\n",
      "Requirement already satisfied: numpy>=1.7.1 in ./anaconda3/lib/python3.6/site-packages (from matplotlib)\r\n",
      "Requirement already satisfied: cycler>=0.10 in ./anaconda3/lib/python3.6/site-packages (from matplotlib)\r\n",
      "Requirement already satisfied: pyparsing!=2.0.4,!=2.1.2,!=2.1.6,>=2.0.1 in ./anaconda3/lib/python3.6/site-packages (from matplotlib)\r\n",
      "Requirement already satisfied: python-dateutil>=2.1 in ./anaconda3/lib/python3.6/site-packages (from matplotlib)\r\n",
      "Requirement already satisfied: pytz in ./anaconda3/lib/python3.6/site-packages (from matplotlib)\r\n",
      "Requirement already satisfied: six>=1.10 in ./anaconda3/lib/python3.6/site-packages (from matplotlib)\r\n",
      "Requirement already satisfied: kiwisolver>=1.0.1 in ./anaconda3/lib/python3.6/site-packages (from matplotlib)\r\n",
      "Requirement already satisfied: setuptools in ./anaconda3/lib/python3.6/site-packages (from kiwisolver>=1.0.1->matplotlib)\r\n"
     ]
    }
   ],
   "source": [
    "! pip install matplotlib\n"
   ]
  },
  {
   "cell_type": "code",
   "execution_count": 23,
   "metadata": {},
   "outputs": [
    {
     "name": "stdout",
     "output_type": "stream",
     "text": [
      "Solving environment: done\n",
      "\n",
      "## Package Plan ##\n",
      "\n",
      "  environment location: /home/umesh/anaconda3\n",
      "\n",
      "  added / updated specs: \n",
      "    - scipy\n",
      "\n",
      "\n",
      "The following packages will be downloaded:\n",
      "\n",
      "    package                    |            build\n",
      "    ---------------------------|-----------------\n",
      "    scipy-1.0.0                |   py36hbf646e7_0        17.8 MB\n",
      "\n",
      "The following packages will be UPDATED:\n",
      "\n",
      "    scipy: 0.19.1-py36h9976243_3 --> 1.0.0-py36hbf646e7_0\n",
      "\n",
      "\n",
      "Downloading and Extracting Packages\n",
      "scipy 1.0.0: ########################################################### | 100% \n",
      "Preparing transaction: done\n",
      "Verifying transaction: done\n",
      "Executing transaction: done\n"
     ]
    }
   ],
   "source": [
    "import sys\n",
    "!conda install --yes --prefix {sys.prefix} scipy"
   ]
  },
  {
   "cell_type": "code",
   "execution_count": 24,
   "metadata": {},
   "outputs": [
    {
     "data": {
      "text/plain": [
       "['/home/umesh/anaconda3/lib/python3.6/site-packages/scipy']"
      ]
     },
     "execution_count": 24,
     "metadata": {},
     "output_type": "execute_result"
    }
   ],
   "source": [
    "import scipy\n",
    "scipy.__path__"
   ]
  },
  {
   "cell_type": "code",
   "execution_count": 25,
   "metadata": {},
   "outputs": [
    {
     "name": "stdout",
     "output_type": "stream",
     "text": [
      "Solving environment: done\n",
      "\n",
      "## Package Plan ##\n",
      "\n",
      "  environment location: /home/umesh/anaconda3\n",
      "\n",
      "  added / updated specs: \n",
      "    - matplotlib\n",
      "\n",
      "\n",
      "The following packages will be downloaded:\n",
      "\n",
      "    package                    |            build\n",
      "    ---------------------------|-----------------\n",
      "    libpng-1.6.34              |       hb9fc6fc_0         334 KB\n",
      "    kiwisolver-1.0.1           |   py36h764f252_0          84 KB\n",
      "    matplotlib-2.2.0           |   py36hbc4b006_0         6.6 MB\n",
      "    ------------------------------------------------------------\n",
      "                                           Total:         7.1 MB\n",
      "\n",
      "The following NEW packages will be INSTALLED:\n",
      "\n",
      "    kiwisolver: 1.0.1-py36h764f252_0\n",
      "\n",
      "The following packages will be UPDATED:\n",
      "\n",
      "    libpng:     1.6.32-hda9c8bc_2    --> 1.6.34-hb9fc6fc_0   \n",
      "    matplotlib: 2.1.0-py36hba5de38_0 --> 2.2.0-py36hbc4b006_0\n",
      "\n",
      "\n",
      "Downloading and Extracting Packages\n",
      "libpng 1.6.34: ######################################################### | 100% \n",
      "kiwisolver 1.0.1: ###################################################### | 100% \n",
      "matplotlib 2.2.0: ###################################################### | 100% \n",
      "Preparing transaction: done\n",
      "Verifying transaction: done\n",
      "Executing transaction: done\n"
     ]
    }
   ],
   "source": [
    "import sys\n",
    "!conda install --yes --prefix {sys.prefix} matplotlib"
   ]
  },
  {
   "cell_type": "code",
   "execution_count": null,
   "metadata": {
    "collapsed": true
   },
   "outputs": [],
   "source": [
    "import scipy\n",
    "scipy.__path__"
   ]
  }
 ],
 "metadata": {
  "kernelspec": {
   "display_name": "Python 3",
   "language": "python",
   "name": "python3"
  },
  "language_info": {
   "codemirror_mode": {
    "name": "ipython",
    "version": 3
   },
   "file_extension": ".py",
   "mimetype": "text/x-python",
   "name": "python",
   "nbconvert_exporter": "python",
   "pygments_lexer": "ipython3",
   "version": "3.6.3"
  }
 },
 "nbformat": 4,
 "nbformat_minor": 2
}
