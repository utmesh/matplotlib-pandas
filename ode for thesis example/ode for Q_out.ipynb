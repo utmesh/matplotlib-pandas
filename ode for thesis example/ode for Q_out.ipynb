{
 "cells": [
  {
   "cell_type": "code",
   "execution_count": 6,
   "metadata": {},
   "outputs": [
    {
     "data": {
      "text/plain": [
       "<function matplotlib.pyplot.show>"
      ]
     },
     "execution_count": 6,
     "metadata": {},
     "output_type": "execute_result"
    },
    {
     "data": {
      "image/png": "[encoded data removed]",
      "text/plain": [
       "<Figure size 432x288 with 1 Axes>"
      ]
     },
     "metadata": {},
     "output_type": "display_data"
    }
   ],
   "source": [
    "# -*- coding: utf-8 -*-\n",
    "\"\"\"\n",
    "Created on Fri May 18 10:31:32 2018\n",
    "\n",
    "\"\"\"\n",
    "\n",
    "import numpy as np\n",
    "from scipy.integrate import odeint\n",
    "%matplotlib inline\n",
    "import matplotlib.pyplot as plt\n",
    "import math\n",
    "\n",
    "def elastance(t):\n",
    "    tp = 0.35 #peak contraction time\n",
    "    ts = 0.8  #total contraction time\n",
    "    T = 1.0 # heart period\n",
    "    t = t % T\n",
    "    return np.piecewise(t,[t<tp,np.logical_and(tp<=t,t<ts),t>=ts],\n",
    "                        [lambda x: np.sin(math.pi*x/(2*tp))**2,\n",
    "                         lambda x: np.cos(math.pi*(x-tp)/(2*(ts-tp)))**2,\n",
    "                         0])\n",
    "\n",
    "\n",
    "def firstorder(PsVv,t, Q_out_arg):\n",
    "    #print(\"q\",Ps)\n",
    "    Ps=PsVv[0] # lumped systemic circulation pressure\n",
    "    Vv=PsVv[1] # left ventricular volume\n",
    "    Cs = 2.75  # compliance resistance\n",
    "    Rs = 1     # systemic resistance\n",
    "    f=elastance(t)\n",
    "    a = 0.0007\n",
    "    b = 8\n",
    "    c = 1.5\n",
    "    d = 0.9\n",
    "    Pv = a*(Vv-b)**2 + (c*Vv-d)*f # left ventricular pressure\n",
    "    Pr = 10 #filing pressure from venous reservoir\n",
    "    Rin = 0.001 #input filling resistance\n",
    "    Ro = 0.06 #resistance of aorta\n",
    "    Q_in = np.piecewise(Pv,[Pr>Pv,Pr<=Pv],[lambda x: (Pr-x)/Rin,0])\n",
    "    #Q_out = np.piecewise(Pv,[Pv>Ps,Pv<=Ps],[lambda x:(x-Ps)/Ro,0]) \n",
    "    Q_out = Q_out_arg\n",
    "    dPsdt = Q_out/Cs - Ps/(Rs*Cs)  \n",
    "    dVvdt = Q_in - Q_out\n",
    "    #print(dPsdt)\n",
    "    return np.array([dPsdt,dVvdt])\n",
    "\n",
    "total_time = 50 # seconds\n",
    "resolution = 200 # steps per second\n",
    "plot_start = 40 # seconds, when to start plotting\n",
    "for i in [10, 50, 100, 500]:\n",
    "    t=np.linspace(0,total_time,total_time*resolution)\n",
    "    #print(t.shape)\n",
    "    PsVv = odeint(firstorder,[0,10],t, args = (i,)) # args in tuple form so include comma\n",
    "    #print(PsVv.shape)\n",
    "    Vv = PsVv[plot_start*resolution:,1]  ## 1 indicates first column\n",
    "    #print(Vv.shape)\n",
    "    f = elastance(t)[plot_start*resolution:]\n",
    "    #print(f.shape)\n",
    "    a = 0.0007\n",
    "    b = 8\n",
    "    c = 1.5\n",
    "    d = 0.9\n",
    "    Pv = a*(Vv-b)**2 + (c*Vv-d)*f\n",
    "    plt.plot(Vv,Pv, label = \"Q_out = \" + str(i))\n",
    "\n",
    "plt.legend()\n",
    "plt.show"
   ]
  },
  {
   "cell_type": "code",
   "execution_count": null,
   "metadata": {
    "collapsed": true
   },
   "outputs": [],
   "source": []
  }
 ],
 "metadata": {
  "kernelspec": {
   "display_name": "Python 3",
   "language": "python",
   "name": "python3"
  },
  "language_info": {
   "codemirror_mode": {
    "name": "ipython",
    "version": 3
   },
   "file_extension": ".py",
   "mimetype": "text/x-python",
   "name": "python",
   "nbconvert_exporter": "python",
   "pygments_lexer": "ipython3",
   "version": "3.6.3"
  }
 },
 "nbformat": 4,
 "nbformat_minor": 2
}
